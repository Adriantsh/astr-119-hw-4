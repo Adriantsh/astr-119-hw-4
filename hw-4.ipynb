{
 "cells": [
  {
   "cell_type": "markdown",
   "metadata": {},
   "source": [
    "# HW 4"
   ]
  },
  {
   "cell_type": "code",
   "execution_count": null,
   "metadata": {},
   "outputs": [],
   "source": [
    "%matplotlib inline\n",
    "import numpy as np \n",
    "import matplotlib.pyplot as plt"
   ]
  },
  {
   "cell_type": "markdown",
   "metadata": {},
   "source": [
    "## Define roots function"
   ]
  },
  {
   "cell_type": "code",
   "execution_count": null,
   "metadata": {},
   "outputs": [],
   "source": [
    "def function_for_roots(x):\n",
    "    a = 1.01\n",
    "    b = -3.04\n",
    "    c = 2.07\n",
    "    return a*x**2 +b*x + c  #get the roots of ax^2 + bx + c"
   ]
  },
  {
   "cell_type": "markdown",
   "metadata": {},
   "source": [
    "## Initial Value Check"
   ]
  },
  {
   "cell_type": "code",
   "execution_count": null,
   "metadata": {},
   "outputs": [],
   "source": [
    "def check_initial_values(f, x_min, x_max, tol):\n",
    "    \n",
    "    #check out intital guesses\n",
    "    y_min = f(x_min)\n",
    "    y_max = f(x_max)\n",
    "    \n",
    "    #check that xim and xmax contain a zero crossing\n",
    "    if(y_min*y_max >= 0.0):\n",
    "        print(\"No zero crossing found in the range = \",x_min,x)\n",
    "        s = \"f(%f) = %f(%f) = %f\" % (x_mins,y_min,x_max,y_max)\n",
    "        print(s)\n",
    "        return 0 \n",
    "    \n",
    "    #if x_min is a root, then return flag==1 \n",
    "    if(np.fabs(y_min)<tol):\n",
    "        return 1\n",
    "    \n",
    "    #if x_max is a root, then return flag==2 \n",
    "    if(np.fabs(y_max)<tol):\n",
    "        return 2\n",
    "    \n",
    "    #if we reach this point, the bracket is valid\n",
    "    #and we will return 3\n",
    "    return 3"
   ]
  },
  {
   "cell_type": "markdown",
   "metadata": {},
   "source": [
    "## Main work function, performs iteration"
   ]
  },
  {
   "cell_type": "code",
   "execution_count": null,
   "metadata": {},
   "outputs": [],
   "source": [
    "def bisection_root_finding(f, x_min_start, x_max_start, tol):\n",
    "\n",
    "    #this function uses bisection to find a root\n",
    "\n",
    "    x_min = x_min_start  #minimum x in bracket\n",
    "    x_max = x_max_start  #maximum x in bracket\n",
    "    x_mid = 0.0          #mid point\n",
    "    \n",
    "    y_min = f(x_min)    #function value at x_min\n",
    "    y_max = f(x_max)     #function value at x_max\n",
    "    y_mid = 0.0          #function value at mid point\n",
    "\n",
    "    imax = 10000    #set a max number of iterations\n",
    "    i = 0           #iteration counter\n",
    "\n",
    "    #check the initial values\n",
    "    flag = check_initial_values(f, x_min, x_max, tol)\n",
    "\n",
    "    if(flag == 0):\n",
    "        print(\"Error in bisection_root_finging().\")\n",
    "        raise ValueError('Inital vlues invalid',x_min,x_max)\n",
    "    elif(flag == 1):\n",
    "        #lucky guess\n",
    "        return x_min\n",
    "    elif(flag == 2):\n",
    "        #other lucky guess\n",
    "        return x_max\n",
    "\n",
    "    #if we reach here, then we nedd to conduct the search\n",
    "\n",
    "    #set a new flag\n",
    "    flag = 1\n",
    "\n",
    "    #enter a while loop\n",
    "    while(flag):\n",
    "        x_mid = 0.5*(x_min+x_max) #mid point\n",
    "        y_mid = f(x_mid)           #value of y at x_mid\n",
    "    \n",
    "        #check if x_mid is a root\n",
    "        if(np.fabs(y_mid)<tol):\n",
    "            flag = 0 #we are done!\n",
    "        \n",
    "        else:\n",
    "            #x_mid is not a root\n",
    "            \n",
    "            #if the product of the function at the midpoint \n",
    "            #and at one of the endpoints is greater than\n",
    "            #zero, replace this end point\n",
    "            if(f(x_min)*f(x_mid)>0):\n",
    "                #replace x_max with x_mid\n",
    "                x_min = x_mid\n",
    "            else:\n",
    "                #replace x_max with x_mid\n",
    "                x_max = x_mid\n",
    "        \n",
    "        #print out the iteration\n",
    "        print(x_min,f(x_min),x_max,f(x_max))\n",
    "        \n",
    "        #count the iteration\n",
    "        i += 1 \n",
    "        \n",
    "        #if we have exceeded the number of iterations\n",
    "        #then exit\n",
    "        if(i>=imax):\n",
    "            print(\"Exceeded max number of iterations = \",i)\n",
    "            s = \"Min bracket f(%f) = %f\" %(x_min,f(x_min))\n",
    "            print(s)\n",
    "            s = \"Max bracket f(%f) = %f\" %(x_max,f(x_max))\n",
    "            print(s)\n",
    "            s = \"Mid bracket f(%f) = %f\" %(x_mid,f(x_mid))\n",
    "            print(s)\n",
    "            raise StopIteration('Stopping iterations after ',i)\n",
    "            \n",
    "    #we are done\n",
    "    return x_mid\n"
   ]
  },
  {
   "cell_type": "markdown",
   "metadata": {},
   "source": [
    "## Perform search for root 1"
   ]
  },
  {
   "cell_type": "code",
   "execution_count": null,
   "metadata": {},
   "outputs": [],
   "source": [
    "x_min1 = 0.0\n",
    "x_max1 = 1.6\n",
    "tolerance = 1.0e-6\n",
    "\n",
    "#print the initial guess\n",
    "print(x_min1,function_for_roots(x_min1))\n",
    "print(x_max1,function_for_roots(x_max1))\n",
    "\n",
    "x_root1 = bisection_root_finding(function_for_roots,x_min1,x_max1,tolerance)\n",
    "y_root1 = function_for_roots(x_root1)\n",
    "\n",
    "s = \"Root found with y(%f) = %f\" % (x_root1,y_root1)\n",
    "print(s)"
   ]
  },
  {
   "cell_type": "markdown",
   "metadata": {},
   "source": [
    "## Perform search for root 2"
   ]
  },
  {
   "cell_type": "code",
   "execution_count": null,
   "metadata": {},
   "outputs": [],
   "source": [
    "x_min2 = 1.4\n",
    "x_max2 = 3.0\n",
    "tolerance = 1.0e-6\n",
    "\n",
    "#print the initial guess\n",
    "print(x_min2,function_for_roots(x_min2))\n",
    "print(x_max2,function_for_roots(x_max2))\n",
    "\n",
    "x_root2 = bisection_root_finding(function_for_roots,x_min2,x_max2,tolerance)\n",
    "y_root2 = function_for_roots(x_root2)\n",
    "\n",
    "s = \"Root found with y(%f) = %f\" % (x_root2,y_root2)\n",
    "print(s)"
   ]
  },
  {
   "cell_type": "markdown",
   "metadata": {},
   "source": [
    "## Plot of  roots function, roots, bracket values"
   ]
  },
  {
   "cell_type": "code",
   "execution_count": null,
   "metadata": {},
   "outputs": [],
   "source": [
    "x = np.linspace(-0.2,3.2,1000)\n",
    "y0 = np.zeros(1000,dtype=float)\n",
    "\n",
    "f = plt.figure(figsize=(6,6)) \n",
    "\n",
    "plt.scatter(x_min1, function_for_roots(x_min1),label='Bracket 1 Min', s=65)\n",
    "plt.scatter(x_max1, function_for_roots(x_max1),label='Bracket 1 Max', s=65)\n",
    "plt.scatter(x_min2, function_for_roots(x_min2),label='Bracket 2 Min', s=65)\n",
    "plt.scatter(x_max2, function_for_roots(x_max2),label='Bracket 2 Max', s=65)\n",
    "plt.scatter(x_root1,y_root1, label='Root 1', s=65)\n",
    "plt.scatter(x_root2,y_root2, label='Root 2', s=65)\n",
    "\n",
    "plt.plot(x,function_for_roots(x),label='Function for Roots')\n",
    "plt.plot(x,y0,label='y=0')\n",
    "\n",
    "plt.xlim([-0.2,3.2])\n",
    "plt.ylim([-0.5,2.3])\n",
    "plt.xlabel(r'$x$')\n",
    "plt.ylabel(r'$y(x)$')\n",
    "\n",
    "plt.legend()\n"
   ]
  },
  {
   "cell_type": "code",
   "execution_count": null,
   "metadata": {},
   "outputs": [],
   "source": []
  }
 ],
 "metadata": {
  "kernelspec": {
   "display_name": "Python 3",
   "language": "python",
   "name": "python3"
  },
  "language_info": {
   "codemirror_mode": {
    "name": "ipython",
    "version": 3
   },
   "file_extension": ".py",
   "mimetype": "text/x-python",
   "name": "python",
   "nbconvert_exporter": "python",
   "pygments_lexer": "ipython3",
   "version": "3.8.5"
  }
 },
 "nbformat": 4,
 "nbformat_minor": 4
}
